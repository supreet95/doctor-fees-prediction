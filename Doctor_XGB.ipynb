{
 "cells": [
  {
   "cell_type": "markdown",
   "metadata": {},
   "source": [
    "### Import Python Libraries"
   ]
  },
  {
   "cell_type": "code",
   "execution_count": 488,
   "metadata": {
    "collapsed": true
   },
   "outputs": [],
   "source": [
    "import numpy as np\n",
    "import pandas as pd\n",
    "import matplotlib.pyplot as plt\n",
    "import seaborn as sns\n",
    "%matplotlib inline\n",
    "import socket"
   ]
  },
  {
   "cell_type": "markdown",
   "metadata": {},
   "source": [
    "### Import Train and Test Data and Append them\n",
    "\n",
    "Appending the datasets makes coding simpler and all the data transformations can be applied to both the datasets at once. After data-cleaning and data-transformations, the appended dataset can be split back to test and train datasets\n"
   ]
  },
  {
   "cell_type": "code",
   "execution_count": 489,
   "metadata": {
    "collapsed": true
   },
   "outputs": [],
   "source": [
    "df=pd.read_excel(\"/Users/sd15068/Downloads/Final Participant Data Folder/Final_Train.xlsx\")"
   ]
  },
  {
   "cell_type": "code",
   "execution_count": 490,
   "metadata": {
    "collapsed": true
   },
   "outputs": [],
   "source": [
    "df_test=pd.read_excel(\"/Users/sd15068/Downloads/Final Participant Data Folder/Final_Test.xlsx\")"
   ]
  },
  {
   "cell_type": "code",
   "execution_count": 491,
   "metadata": {
    "collapsed": true
   },
   "outputs": [],
   "source": [
    "big_df = df.append(df_test)"
   ]
  },
  {
   "cell_type": "markdown",
   "metadata": {},
   "source": [
    "### Feature Generation\n",
    "\n",
    "All the relevant variables are converted to usable features, that can go into the model. For example, years experience is transformed to an integer; 'Qualification' is split into 3 different string variables as 'Qual1', 'Qual2' and 'Qual3'; Similar operations are performed on all the columns. This is probably the most important step in the entire analysis, re-iterating the importance of Feature Engineering."
   ]
  },
  {
   "cell_type": "code",
   "execution_count": 492,
   "metadata": {
    "collapsed": true
   },
   "outputs": [],
   "source": [
    "big_df['years_exp'] = big_df['Experience'].str.slice(stop=2).astype(int)\n",
    "big_df['City'] = big_df['Place'].str.split(',').str[1]\n",
    "big_df['Locality'] = big_df['Place'].str.split(',').str[0]\n",
    "\n",
    "big_df['Qual_1'] = big_df['Qualification'].str.split(',').str[0]\n",
    "big_df['Qual_2'] = big_df['Qualification'].str.split(',').str[1]\n",
    "big_df['Qual_3'] = big_df['Qualification'].str.split(',').str[2]\n",
    "\n",
    "big_df['Misc'] = big_df['Miscellaneous_Info'].str.split('%').str[0]\n",
    "big_df['Misc_len'] = big_df['Misc'].str.len()\n",
    "big_df.loc[big_df['Misc_len']>3, 'Misc'] = 0\n",
    "big_df['Misc'].fillna(0,inplace = True)\n",
    "big_df['Misc'] = big_df['Misc'].astype(int)\n",
    "big_df['Misc_2'] = big_df['Miscellaneous_Info'].str.split('% ').str[1]\n",
    "big_df['Misc_3'] = big_df['Misc_2'].str.split(' ').str[0]\n",
    "big_df['Misc_3'].fillna(0,inplace = True)\n",
    "big_df['Misc_3_len'] = big_df['Misc_3'].str.len()\n",
    "big_df.loc[big_df['Misc_3_len']>3, 'Misc_3'] = 0\n",
    "big_df.loc[big_df['Misc_3']==',', 'Misc_3'] = 0\n",
    "big_df['Misc_3'] = big_df['Misc_3'].astype(int)\n",
    "big_df['Misc_4'] = big_df['Misc']*np.log((1+big_df['Misc_3']))\n",
    "\n",
    "big_df['Rating'].fillna('0%',inplace = True)\n",
    "big_df['City'].fillna(\"XXX\",inplace = True)\n",
    "big_df['Locality'].fillna(\"XXX\",inplace = True)\n",
    "big_df['Qualification'].fillna(\"XXX\",inplace = True)\n",
    "big_df['Profile'].fillna(\"XXX\",inplace = True)\n",
    "big_df['Qual_1'].fillna(\"XXX\",inplace = True)\n",
    "big_df['Qual_2'].fillna(\"XXX\",inplace = True)\n",
    "big_df['Qual_3'].fillna(\"XXX\",inplace = True)\n",
    "big_df['Rating'] = big_df['Rating'].str.slice(stop=-1).astype(int)"
   ]
  },
  {
   "cell_type": "markdown",
   "metadata": {},
   "source": [
    "### Feature Selection\n",
    "\n",
    "Create a new dataframe with the relevant features that would go into the ML model."
   ]
  },
  {
   "cell_type": "code",
   "execution_count": 493,
   "metadata": {
    "collapsed": true
   },
   "outputs": [],
   "source": [
    "big_df = big_df.drop(big_df[['Experience','Miscellaneous_Info','Place','Qualification','Misc_len','Misc_3_len']], axis=1)"
   ]
  },
  {
   "cell_type": "code",
   "execution_count": 494,
   "metadata": {
    "collapsed": true
   },
   "outputs": [],
   "source": [
    "big_df = big_df[['Qual_1','Qual_2','Qual_3','years_exp', 'Rating','Profile','Locality','City','Misc','Misc_3','Fees']]"
   ]
  },
  {
   "cell_type": "code",
   "execution_count": 495,
   "metadata": {
    "collapsed": true
   },
   "outputs": [],
   "source": [
    "df_train = big_df[0:5961]"
   ]
  },
  {
   "cell_type": "code",
   "execution_count": 496,
   "metadata": {},
   "outputs": [
    {
     "data": {
      "text/html": [
       "<div>\n",
       "<style>\n",
       "    .dataframe thead tr:only-child th {\n",
       "        text-align: right;\n",
       "    }\n",
       "\n",
       "    .dataframe thead th {\n",
       "        text-align: left;\n",
       "    }\n",
       "\n",
       "    .dataframe tbody tr th {\n",
       "        vertical-align: top;\n",
       "    }\n",
       "</style>\n",
       "<table border=\"1\" class=\"dataframe\">\n",
       "  <thead>\n",
       "    <tr style=\"text-align: right;\">\n",
       "      <th></th>\n",
       "      <th>years_exp</th>\n",
       "      <th>Rating</th>\n",
       "      <th>Misc</th>\n",
       "      <th>Misc_3</th>\n",
       "      <th>Fees</th>\n",
       "    </tr>\n",
       "  </thead>\n",
       "  <tbody>\n",
       "    <tr>\n",
       "      <th>count</th>\n",
       "      <td>5961.000000</td>\n",
       "      <td>5961.000000</td>\n",
       "      <td>5961.000000</td>\n",
       "      <td>5961.000000</td>\n",
       "      <td>5961.000000</td>\n",
       "    </tr>\n",
       "    <tr>\n",
       "      <th>mean</th>\n",
       "      <td>17.303976</td>\n",
       "      <td>42.217245</td>\n",
       "      <td>23.556786</td>\n",
       "      <td>9.677906</td>\n",
       "      <td>307.944640</td>\n",
       "    </tr>\n",
       "    <tr>\n",
       "      <th>std</th>\n",
       "      <td>11.142798</td>\n",
       "      <td>47.340934</td>\n",
       "      <td>40.828486</td>\n",
       "      <td>39.358833</td>\n",
       "      <td>190.920373</td>\n",
       "    </tr>\n",
       "    <tr>\n",
       "      <th>min</th>\n",
       "      <td>0.000000</td>\n",
       "      <td>0.000000</td>\n",
       "      <td>0.000000</td>\n",
       "      <td>0.000000</td>\n",
       "      <td>5.000000</td>\n",
       "    </tr>\n",
       "    <tr>\n",
       "      <th>25%</th>\n",
       "      <td>9.000000</td>\n",
       "      <td>0.000000</td>\n",
       "      <td>0.000000</td>\n",
       "      <td>0.000000</td>\n",
       "      <td>150.000000</td>\n",
       "    </tr>\n",
       "    <tr>\n",
       "      <th>50%</th>\n",
       "      <td>14.000000</td>\n",
       "      <td>0.000000</td>\n",
       "      <td>0.000000</td>\n",
       "      <td>0.000000</td>\n",
       "      <td>300.000000</td>\n",
       "    </tr>\n",
       "    <tr>\n",
       "      <th>75%</th>\n",
       "      <td>23.000000</td>\n",
       "      <td>96.000000</td>\n",
       "      <td>56.000000</td>\n",
       "      <td>1.000000</td>\n",
       "      <td>500.000000</td>\n",
       "    </tr>\n",
       "    <tr>\n",
       "      <th>max</th>\n",
       "      <td>66.000000</td>\n",
       "      <td>100.000000</td>\n",
       "      <td>100.000000</td>\n",
       "      <td>854.000000</td>\n",
       "      <td>950.000000</td>\n",
       "    </tr>\n",
       "  </tbody>\n",
       "</table>\n",
       "</div>"
      ],
      "text/plain": [
       "         years_exp       Rating         Misc       Misc_3         Fees\n",
       "count  5961.000000  5961.000000  5961.000000  5961.000000  5961.000000\n",
       "mean     17.303976    42.217245    23.556786     9.677906   307.944640\n",
       "std      11.142798    47.340934    40.828486    39.358833   190.920373\n",
       "min       0.000000     0.000000     0.000000     0.000000     5.000000\n",
       "25%       9.000000     0.000000     0.000000     0.000000   150.000000\n",
       "50%      14.000000     0.000000     0.000000     0.000000   300.000000\n",
       "75%      23.000000    96.000000    56.000000     1.000000   500.000000\n",
       "max      66.000000   100.000000   100.000000   854.000000   950.000000"
      ]
     },
     "execution_count": 496,
     "metadata": {},
     "output_type": "execute_result"
    }
   ],
   "source": [
    "df_train.describe()"
   ]
  },
  {
   "cell_type": "code",
   "execution_count": 497,
   "metadata": {
    "collapsed": true
   },
   "outputs": [],
   "source": [
    "df_test = big_df[5961:]"
   ]
  },
  {
   "cell_type": "code",
   "execution_count": 498,
   "metadata": {
    "collapsed": true
   },
   "outputs": [],
   "source": [
    "df_test = df_test.drop(['Fees'], axis =1)"
   ]
  },
  {
   "cell_type": "markdown",
   "metadata": {},
   "source": [
    "### Prepare categorial variables for XGBoost using label encoder\n",
    "\n",
    "Internally, XGBoost models represent all problems as a regression predictive modeling problem that only takes numerical values as input. If your data is in a different form, it must be prepared into the expected format.\n",
    "\n",
    "To convert categorical text data into model-understandable numerical data, we use the Label Encoder class. So all we have to do, to label encode a column is import the LabelEncoder class from the sklearn library, fit and transform the column of the data, and then replace the existing text data with the new encoded data."
   ]
  },
  {
   "cell_type": "code",
   "execution_count": 499,
   "metadata": {
    "collapsed": true
   },
   "outputs": [],
   "source": [
    "from sklearn.preprocessing import LabelEncoder"
   ]
  },
  {
   "cell_type": "code",
   "execution_count": 500,
   "metadata": {
    "collapsed": true
   },
   "outputs": [],
   "source": [
    "lb_encode = LabelEncoder()\n",
    "df_test[\"Qual_1_code\"] = lb_encode.fit_transform(df_test[\"Qual_1\"])\n",
    "df_test[\"Qual_2_code\"] = lb_encode.fit_transform(df_test[\"Qual_2\"])\n",
    "df_test[\"Qual_3_code\"] = lb_encode.fit_transform(df_test[\"Qual_3\"])\n",
    "df_test[\"Profile_code\"] = lb_encode.fit_transform(df_test[\"Profile\"])\n",
    "df_test[\"City_code\"] = lb_encode.fit_transform(df_test[\"City\"])\n",
    "df_test[\"Locality_code\"] = lb_encode.fit_transform(df_test[\"Locality\"])"
   ]
  },
  {
   "cell_type": "code",
   "execution_count": 501,
   "metadata": {},
   "outputs": [
    {
     "data": {
      "text/html": [
       "<div>\n",
       "<style>\n",
       "    .dataframe thead tr:only-child th {\n",
       "        text-align: right;\n",
       "    }\n",
       "\n",
       "    .dataframe thead th {\n",
       "        text-align: left;\n",
       "    }\n",
       "\n",
       "    .dataframe tbody tr th {\n",
       "        vertical-align: top;\n",
       "    }\n",
       "</style>\n",
       "<table border=\"1\" class=\"dataframe\">\n",
       "  <thead>\n",
       "    <tr style=\"text-align: right;\">\n",
       "      <th></th>\n",
       "      <th>Qual_1</th>\n",
       "      <th>Qual_2</th>\n",
       "      <th>Qual_3</th>\n",
       "      <th>years_exp</th>\n",
       "      <th>Rating</th>\n",
       "      <th>Profile</th>\n",
       "      <th>Locality</th>\n",
       "      <th>City</th>\n",
       "      <th>Misc</th>\n",
       "      <th>Misc_3</th>\n",
       "      <th>Qual_1_code</th>\n",
       "      <th>Qual_2_code</th>\n",
       "      <th>Qual_3_code</th>\n",
       "      <th>Profile_code</th>\n",
       "      <th>City_code</th>\n",
       "      <th>Locality_code</th>\n",
       "    </tr>\n",
       "  </thead>\n",
       "  <tbody>\n",
       "    <tr>\n",
       "      <th>0</th>\n",
       "      <td>MBBS</td>\n",
       "      <td>XXX</td>\n",
       "      <td>XXX</td>\n",
       "      <td>35</td>\n",
       "      <td>0</td>\n",
       "      <td>General Medicine</td>\n",
       "      <td>Ghatkopar East</td>\n",
       "      <td>Mumbai</td>\n",
       "      <td>0</td>\n",
       "      <td>0</td>\n",
       "      <td>48</td>\n",
       "      <td>243</td>\n",
       "      <td>195</td>\n",
       "      <td>4</td>\n",
       "      <td>6</td>\n",
       "      <td>142</td>\n",
       "    </tr>\n",
       "    <tr>\n",
       "      <th>1</th>\n",
       "      <td>MBBS</td>\n",
       "      <td>Diploma in Otorhinolaryngology (DLO)</td>\n",
       "      <td>XXX</td>\n",
       "      <td>31</td>\n",
       "      <td>0</td>\n",
       "      <td>ENT Specialist</td>\n",
       "      <td>West Marredpally</td>\n",
       "      <td>Hyderabad</td>\n",
       "      <td>0</td>\n",
       "      <td>0</td>\n",
       "      <td>48</td>\n",
       "      <td>79</td>\n",
       "      <td>195</td>\n",
       "      <td>3</td>\n",
       "      <td>5</td>\n",
       "      <td>577</td>\n",
       "    </tr>\n",
       "    <tr>\n",
       "      <th>2</th>\n",
       "      <td>MBBS</td>\n",
       "      <td>DDVL</td>\n",
       "      <td>XXX</td>\n",
       "      <td>40</td>\n",
       "      <td>70</td>\n",
       "      <td>Dermatologists</td>\n",
       "      <td>KK Nagar</td>\n",
       "      <td>Chennai</td>\n",
       "      <td>70</td>\n",
       "      <td>4</td>\n",
       "      <td>48</td>\n",
       "      <td>28</td>\n",
       "      <td>195</td>\n",
       "      <td>2</td>\n",
       "      <td>1</td>\n",
       "      <td>212</td>\n",
       "    </tr>\n",
       "    <tr>\n",
       "      <th>3</th>\n",
       "      <td>BAMS</td>\n",
       "      <td>XXX</td>\n",
       "      <td>XXX</td>\n",
       "      <td>0</td>\n",
       "      <td>0</td>\n",
       "      <td>Ayurveda</td>\n",
       "      <td>New Ashok Nagar</td>\n",
       "      <td>Delhi</td>\n",
       "      <td>0</td>\n",
       "      <td>0</td>\n",
       "      <td>1</td>\n",
       "      <td>243</td>\n",
       "      <td>195</td>\n",
       "      <td>0</td>\n",
       "      <td>3</td>\n",
       "      <td>373</td>\n",
       "    </tr>\n",
       "    <tr>\n",
       "      <th>4</th>\n",
       "      <td>BDS</td>\n",
       "      <td>MDS - Conservative Dentistry &amp; Endodontics</td>\n",
       "      <td>XXX</td>\n",
       "      <td>16</td>\n",
       "      <td>100</td>\n",
       "      <td>Dentist</td>\n",
       "      <td>Kanakpura Road</td>\n",
       "      <td>Bangalore</td>\n",
       "      <td>0</td>\n",
       "      <td>0</td>\n",
       "      <td>2</td>\n",
       "      <td>157</td>\n",
       "      <td>195</td>\n",
       "      <td>1</td>\n",
       "      <td>0</td>\n",
       "      <td>231</td>\n",
       "    </tr>\n",
       "  </tbody>\n",
       "</table>\n",
       "</div>"
      ],
      "text/plain": [
       "  Qual_1                                       Qual_2 Qual_3  years_exp  \\\n",
       "0   MBBS                                          XXX    XXX         35   \n",
       "1   MBBS         Diploma in Otorhinolaryngology (DLO)    XXX         31   \n",
       "2   MBBS                                         DDVL    XXX         40   \n",
       "3   BAMS                                          XXX    XXX          0   \n",
       "4    BDS   MDS - Conservative Dentistry & Endodontics    XXX         16   \n",
       "\n",
       "   Rating           Profile          Locality        City  Misc  Misc_3  \\\n",
       "0       0  General Medicine    Ghatkopar East      Mumbai     0       0   \n",
       "1       0    ENT Specialist  West Marredpally   Hyderabad     0       0   \n",
       "2      70    Dermatologists          KK Nagar     Chennai    70       4   \n",
       "3       0          Ayurveda   New Ashok Nagar       Delhi     0       0   \n",
       "4     100           Dentist    Kanakpura Road   Bangalore     0       0   \n",
       "\n",
       "   Qual_1_code  Qual_2_code  Qual_3_code  Profile_code  City_code  \\\n",
       "0           48          243          195             4          6   \n",
       "1           48           79          195             3          5   \n",
       "2           48           28          195             2          1   \n",
       "3            1          243          195             0          3   \n",
       "4            2          157          195             1          0   \n",
       "\n",
       "   Locality_code  \n",
       "0            142  \n",
       "1            577  \n",
       "2            212  \n",
       "3            373  \n",
       "4            231  "
      ]
     },
     "execution_count": 501,
     "metadata": {},
     "output_type": "execute_result"
    }
   ],
   "source": [
    "df_test.head()"
   ]
  },
  {
   "cell_type": "code",
   "execution_count": 502,
   "metadata": {
    "collapsed": true
   },
   "outputs": [],
   "source": [
    "df_test_merge_1 = df_test[['Qual_1','Qual_1_code']].drop_duplicates()\n",
    "df_test_merge_2 = df_test[['Qual_2','Qual_2_code']].drop_duplicates()\n",
    "df_test_merge_3 = df_test[['Qual_3','Qual_3_code']].drop_duplicates()\n",
    "df_test_merge_4 = df_test[['Profile','Profile_code']].drop_duplicates()\n",
    "df_test_merge_5 = df_test[['City','City_code']].drop_duplicates()\n",
    "df_test_merge_6 = df_test[['Locality','Locality_code']].drop_duplicates()"
   ]
  },
  {
   "cell_type": "markdown",
   "metadata": {},
   "source": [
    "### Merge features from test data to train data"
   ]
  },
  {
   "cell_type": "code",
   "execution_count": 503,
   "metadata": {
    "collapsed": true
   },
   "outputs": [],
   "source": [
    "df_train = pd.merge(df_train,df_test_merge_1[['Qual_1','Qual_1_code']],on='Qual_1', how='left')\n",
    "df_train = pd.merge(df_train,df_test_merge_2[['Qual_2','Qual_2_code']],on='Qual_2', how='left')\n",
    "df_train = pd.merge(df_train,df_test_merge_3[['Qual_3','Qual_3_code']],on='Qual_3', how='left')\n",
    "df_train = pd.merge(df_train,df_test_merge_4[['Profile','Profile_code']],on='Profile', how='left')\n",
    "df_train = pd.merge(df_train,df_test_merge_5[['City','City_code']],on='City', how='left')\n",
    "df_train = pd.merge(df_train,df_test_merge_6[['Locality','Locality_code']],on='Locality', how='left')"
   ]
  },
  {
   "cell_type": "code",
   "execution_count": 504,
   "metadata": {
    "collapsed": true
   },
   "outputs": [],
   "source": [
    "df_xgb = df_train[['Qual_1_code','Qual_2_code','Qual_3_code','years_exp', 'Rating','Profile_code','Locality_code','City_code','Misc','Misc_3','Fees']]"
   ]
  },
  {
   "cell_type": "markdown",
   "metadata": {},
   "source": [
    "### Create X and Y datasets"
   ]
  },
  {
   "cell_type": "code",
   "execution_count": 505,
   "metadata": {
    "collapsed": true
   },
   "outputs": [],
   "source": [
    "X = df_xgb.drop(['Fees'], axis=1)\n",
    "y = df_xgb.Fees"
   ]
  },
  {
   "cell_type": "markdown",
   "metadata": {},
   "source": [
    "### Import XGBoost\n",
    "\n",
    "Convert the dataset into an optimized data structure called Dmatrix that XGBoost supports and gives it acclaimed performance and efficiency gains."
   ]
  },
  {
   "cell_type": "code",
   "execution_count": 506,
   "metadata": {
    "collapsed": true
   },
   "outputs": [],
   "source": [
    "import xgboost as xgb\n",
    "from sklearn.metrics import mean_squared_error"
   ]
  },
  {
   "cell_type": "code",
   "execution_count": 507,
   "metadata": {
    "collapsed": true
   },
   "outputs": [],
   "source": [
    "data_dmatrix = xgb.DMatrix(data=X,label=y)"
   ]
  },
  {
   "cell_type": "markdown",
   "metadata": {},
   "source": [
    "### Create the train and test set for cross-validation \n",
    "\n",
    "Test and Train data are created for the cross-validation of the results using the train_test_split function from sklearn's model_selection module with test_size size equal to 30% of the data. Also, to maintain reproducibility of the results, a random_state is also assigned."
   ]
  },
  {
   "cell_type": "code",
   "execution_count": 508,
   "metadata": {
    "collapsed": true
   },
   "outputs": [],
   "source": [
    "from sklearn.model_selection import train_test_split\n",
    "\n",
    "X_train, X_test, y_train, y_test = train_test_split(X, y, test_size=0.3, random_state=123)"
   ]
  },
  {
   "cell_type": "markdown",
   "metadata": {},
   "source": [
    "### XGBoost Regressor\n",
    "\n",
    "The next step is to instantiate an XGBoost regressor object by calling the XGBRegressor() class from the XGBoost library with the hyper-parameters passed as arguments. For classification problems, you would have used the XGBClassifier() class."
   ]
  },
  {
   "cell_type": "code",
   "execution_count": 509,
   "metadata": {
    "collapsed": true
   },
   "outputs": [],
   "source": [
    "xg_reg = xgb.XGBRegressor(objective ='reg:linear', colsample_bytree = 0.3, learning_rate = 0.1, max_depth = 5, n_estimators = 10)"
   ]
  },
  {
   "cell_type": "markdown",
   "metadata": {},
   "source": [
    "### Fit the regressor\n",
    "Fit the regressor to the training set and make predictions on the test set using the familiar .fit() and .predict() methods."
   ]
  },
  {
   "cell_type": "code",
   "execution_count": 510,
   "metadata": {
    "collapsed": true
   },
   "outputs": [],
   "source": [
    "xg_reg.fit(X_train,y_train)\n",
    "\n",
    "preds = xg_reg.predict(X_test)"
   ]
  },
  {
   "cell_type": "markdown",
   "metadata": {},
   "source": [
    "### RMSE\n",
    "\n",
    "Compute the rmse by invoking the mean_sqaured_error function from sklearn's metrics module."
   ]
  },
  {
   "cell_type": "code",
   "execution_count": 511,
   "metadata": {},
   "outputs": [
    {
     "name": "stdout",
     "output_type": "stream",
     "text": [
      "RMSE: 212.685080\n"
     ]
    }
   ],
   "source": [
    "rmse = np.sqrt(mean_squared_error(y_test, preds))\n",
    "print(\"RMSE: %f\" % (rmse))"
   ]
  },
  {
   "cell_type": "code",
   "execution_count": 512,
   "metadata": {
    "collapsed": true
   },
   "outputs": [],
   "source": [
    "df_test_xgb = df_test[['Qual_1_code','Qual_2_code','Qual_3_code','years_exp', 'Rating','Profile_code','Locality_code','City_code','Misc','Misc_3']]"
   ]
  },
  {
   "cell_type": "markdown",
   "metadata": {},
   "source": [
    "### Final Prediction\n",
    "\n",
    "Use the model created to predict the Fees for test data."
   ]
  },
  {
   "cell_type": "code",
   "execution_count": 513,
   "metadata": {
    "collapsed": true
   },
   "outputs": [],
   "source": [
    "preds_1 = xg_reg.predict(df_test_xgb)"
   ]
  },
  {
   "cell_type": "code",
   "execution_count": 514,
   "metadata": {},
   "outputs": [
    {
     "name": "stderr",
     "output_type": "stream",
     "text": [
      "C:\\Users\\sd15068\\AppData\\Local\\Continuum\\Anaconda3\\lib\\site-packages\\ipykernel_launcher.py:1: SettingWithCopyWarning: \n",
      "A value is trying to be set on a copy of a slice from a DataFrame.\n",
      "Try using .loc[row_indexer,col_indexer] = value instead\n",
      "\n",
      "See the caveats in the documentation: http://pandas.pydata.org/pandas-docs/stable/indexing.html#indexing-view-versus-copy\n",
      "  \"\"\"Entry point for launching an IPython kernel.\n"
     ]
    }
   ],
   "source": [
    "df_test_xgb['Fees'] = preds_1"
   ]
  },
  {
   "cell_type": "code",
   "execution_count": 515,
   "metadata": {
    "collapsed": true
   },
   "outputs": [],
   "source": [
    "df_test_xgb.to_csv('submission23.csv')"
   ]
  },
  {
   "cell_type": "code",
   "execution_count": null,
   "metadata": {
    "collapsed": true
   },
   "outputs": [],
   "source": []
  }
 ],
 "metadata": {
  "kernelspec": {
   "display_name": "Python 3",
   "language": "python",
   "name": "python3"
  },
  "language_info": {
   "codemirror_mode": {
    "name": "ipython",
    "version": 3
   },
   "file_extension": ".py",
   "mimetype": "text/x-python",
   "name": "python",
   "nbconvert_exporter": "python",
   "pygments_lexer": "ipython3",
   "version": "3.6.1"
  }
 },
 "nbformat": 4,
 "nbformat_minor": 2
}
