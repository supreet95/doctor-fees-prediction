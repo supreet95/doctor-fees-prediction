{
 "cells": [
  {
   "cell_type": "code",
   "execution_count": 3165,
   "metadata": {
    "collapsed": true
   },
   "outputs": [],
   "source": [
    "import numpy as np\n",
    "import pandas as pd\n",
    "import matplotlib.pyplot as plt\n",
    "import seaborn as sns\n",
    "%matplotlib inline\n",
    "import socket"
   ]
  },
  {
   "cell_type": "code",
   "execution_count": 3166,
   "metadata": {
    "collapsed": true
   },
   "outputs": [],
   "source": [
    "df=pd.read_excel(\"/Users/sd15068/Downloads/Final Participant Data Folder/Final_Train.xlsx\")"
   ]
  },
  {
   "cell_type": "code",
   "execution_count": 3167,
   "metadata": {},
   "outputs": [
    {
     "data": {
      "text/plain": [
       "<matplotlib.axes._subplots.AxesSubplot at 0x1934b550>"
      ]
     },
     "execution_count": 3167,
     "metadata": {},
     "output_type": "execute_result"
    },
    {
     "data": {
      "image/png": "[encoded data removed]",
      "text/plain": [
       "<matplotlib.figure.Figure at 0x16990ba8>"
      ]
     },
     "metadata": {},
     "output_type": "display_data"
    }
   ],
   "source": [
    "df['Fees'].hist(bins=5)"
   ]
  },
  {
   "cell_type": "code",
   "execution_count": 3168,
   "metadata": {
    "collapsed": true
   },
   "outputs": [],
   "source": [
    "df['years_exp'] = df['Experience'].str.slice(stop=2).astype(int)"
   ]
  },
  {
   "cell_type": "code",
   "execution_count": 3169,
   "metadata": {},
   "outputs": [
    {
     "data": {
      "text/html": [
       "<div>\n",
       "<style>\n",
       "    .dataframe thead tr:only-child th {\n",
       "        text-align: right;\n",
       "    }\n",
       "\n",
       "    .dataframe thead th {\n",
       "        text-align: left;\n",
       "    }\n",
       "\n",
       "    .dataframe tbody tr th {\n",
       "        vertical-align: top;\n",
       "    }\n",
       "</style>\n",
       "<table border=\"1\" class=\"dataframe\">\n",
       "  <thead>\n",
       "    <tr style=\"text-align: right;\">\n",
       "      <th></th>\n",
       "      <th>Fees</th>\n",
       "      <th>years_exp</th>\n",
       "    </tr>\n",
       "  </thead>\n",
       "  <tbody>\n",
       "    <tr>\n",
       "      <th>count</th>\n",
       "      <td>5961.000000</td>\n",
       "      <td>5961.000000</td>\n",
       "    </tr>\n",
       "    <tr>\n",
       "      <th>mean</th>\n",
       "      <td>307.944640</td>\n",
       "      <td>17.303976</td>\n",
       "    </tr>\n",
       "    <tr>\n",
       "      <th>std</th>\n",
       "      <td>190.920373</td>\n",
       "      <td>11.142798</td>\n",
       "    </tr>\n",
       "    <tr>\n",
       "      <th>min</th>\n",
       "      <td>5.000000</td>\n",
       "      <td>0.000000</td>\n",
       "    </tr>\n",
       "    <tr>\n",
       "      <th>25%</th>\n",
       "      <td>150.000000</td>\n",
       "      <td>9.000000</td>\n",
       "    </tr>\n",
       "    <tr>\n",
       "      <th>50%</th>\n",
       "      <td>300.000000</td>\n",
       "      <td>14.000000</td>\n",
       "    </tr>\n",
       "    <tr>\n",
       "      <th>75%</th>\n",
       "      <td>500.000000</td>\n",
       "      <td>23.000000</td>\n",
       "    </tr>\n",
       "    <tr>\n",
       "      <th>max</th>\n",
       "      <td>950.000000</td>\n",
       "      <td>66.000000</td>\n",
       "    </tr>\n",
       "  </tbody>\n",
       "</table>\n",
       "</div>"
      ],
      "text/plain": [
       "              Fees    years_exp\n",
       "count  5961.000000  5961.000000\n",
       "mean    307.944640    17.303976\n",
       "std     190.920373    11.142798\n",
       "min       5.000000     0.000000\n",
       "25%     150.000000     9.000000\n",
       "50%     300.000000    14.000000\n",
       "75%     500.000000    23.000000\n",
       "max     950.000000    66.000000"
      ]
     },
     "execution_count": 3169,
     "metadata": {},
     "output_type": "execute_result"
    }
   ],
   "source": [
    "df.describe()"
   ]
  },
  {
   "cell_type": "code",
   "execution_count": 3170,
   "metadata": {
    "collapsed": true
   },
   "outputs": [],
   "source": [
    "df['City'] = df['Place'].str.split(',').str[1]\n",
    "df['Locality'] = df['Place'].str.split(',').str[0]"
   ]
  },
  {
   "cell_type": "code",
   "execution_count": 3171,
   "metadata": {
    "collapsed": true
   },
   "outputs": [],
   "source": [
    "df['Qual_1'] = df['Qualification'].str.split(',').str[0]\n",
    "df['Qual_2'] = df['Qualification'].str.split(',').str[1]\n",
    "df['Qual_3'] = df['Qualification'].str.split(',').str[2]"
   ]
  },
  {
   "cell_type": "code",
   "execution_count": 3172,
   "metadata": {
    "collapsed": true
   },
   "outputs": [],
   "source": [
    "df['Misc'] = df['Miscellaneous_Info'].str.split('%').str[0]\n",
    "\n",
    "df['Misc_len'] = df['Misc'].str.len()\n",
    "\n",
    "df.loc[df['Misc_len']>3, 'Misc'] = 0\n",
    "\n",
    "df['Misc'].fillna(0,inplace = True)\n",
    "\n",
    "df['Misc'] = df['Misc'].astype(int)\n",
    "\n",
    "df['Misc_2'] = df['Miscellaneous_Info'].str.split('% ').str[1]\n",
    "\n",
    "df['Misc_3'] = df['Misc_2'].str.split(' ').str[0]\n",
    "\n",
    "df['Misc_3'].fillna(0,inplace = True)\n",
    "\n",
    "df['Misc_3_len'] = df['Misc_3'].str.len()\n",
    "\n",
    "df.loc[df['Misc_3_len']>3, 'Misc_3'] = 0\n",
    "\n",
    "df.loc[df['Misc_3']==',', 'Misc_3'] = 0\n",
    "\n",
    "df['Misc_3'] = df['Misc_3'].astype(int)\n",
    "\n",
    "df['Fees1'] = df['Fees']\n",
    "\n",
    "df = df.drop(['Fees'],axis=1)"
   ]
  },
  {
   "cell_type": "code",
   "execution_count": 3173,
   "metadata": {},
   "outputs": [],
   "source": [
    "df['Misc_4'] = df['Misc']*np.log((1+df['Misc_3']))"
   ]
  },
  {
   "cell_type": "code",
   "execution_count": null,
   "metadata": {},
   "outputs": [],
   "source": []
  },
  {
   "cell_type": "code",
   "execution_count": 3174,
   "metadata": {
    "collapsed": true
   },
   "outputs": [],
   "source": [
    "df['Rating'].fillna('0%',inplace = True)"
   ]
  },
  {
   "cell_type": "code",
   "execution_count": 3175,
   "metadata": {
    "collapsed": true
   },
   "outputs": [],
   "source": [
    "df['Rating'] = df['Rating'].str.slice(stop=-1).astype(int)"
   ]
  },
  {
   "cell_type": "code",
   "execution_count": 3176,
   "metadata": {},
   "outputs": [
    {
     "data": {
      "text/plain": [
       "array([' Ernakulam', ' Bangalore', ' Chennai', ' Delhi', ' Hyderabad',\n",
       "       ' Coimbatore', ' Mumbai', ' Thiruvananthapuram', nan, ' Sector 5'], dtype=object)"
      ]
     },
     "execution_count": 3176,
     "metadata": {},
     "output_type": "execute_result"
    }
   ],
   "source": [
    "df['City'].unique()"
   ]
  },
  {
   "cell_type": "code",
   "execution_count": 3177,
   "metadata": {},
   "outputs": [
    {
     "data": {
      "text/plain": [
       "array(['Homeopath', 'Ayurveda', 'ENT Specialist', 'Dentist',\n",
       "       'General Medicine', 'Dermatologists'], dtype=object)"
      ]
     },
     "execution_count": 3177,
     "metadata": {},
     "output_type": "execute_result"
    }
   ],
   "source": [
    "df['Profile'].unique()"
   ]
  },
  {
   "cell_type": "code",
   "execution_count": 3178,
   "metadata": {},
   "outputs": [
    {
     "data": {
      "text/plain": [
       "Qualification          object\n",
       "Experience             object\n",
       "Rating                  int32\n",
       "Place                  object\n",
       "Profile                object\n",
       "Miscellaneous_Info     object\n",
       "years_exp               int32\n",
       "City                   object\n",
       "Locality               object\n",
       "Qual_1                 object\n",
       "Qual_2                 object\n",
       "Qual_3                 object\n",
       "Misc                    int32\n",
       "Misc_len              float64\n",
       "Misc_2                 object\n",
       "Misc_3                  int32\n",
       "Misc_3_len            float64\n",
       "Fees1                   int64\n",
       "Misc_4                float64\n",
       "dtype: object"
      ]
     },
     "execution_count": 3178,
     "metadata": {},
     "output_type": "execute_result"
    }
   ],
   "source": [
    "df.dtypes"
   ]
  },
  {
   "cell_type": "code",
   "execution_count": 3179,
   "metadata": {
    "collapsed": true
   },
   "outputs": [],
   "source": [
    "from sklearn.preprocessing import LabelEncoder"
   ]
  },
  {
   "cell_type": "code",
   "execution_count": 3180,
   "metadata": {
    "collapsed": true
   },
   "outputs": [],
   "source": [
    "df['City'].fillna(\"XXX\",inplace = True)\n",
    "df['Locality'].fillna(\"XXX\",inplace = True)\n",
    "df['Qualification'].fillna(\"XXX\",inplace = True)\n",
    "df['Profile'].fillna(\"XXX\",inplace = True)\n",
    "df['Qual_1'].fillna(\"XXX\",inplace = True)\n",
    "df['Qual_2'].fillna(\"XXX\",inplace = True)\n",
    "df['Qual_3'].fillna(\"XXX\",inplace = True)"
   ]
  },
  {
   "cell_type": "code",
   "execution_count": null,
   "metadata": {},
   "outputs": [],
   "source": []
  },
  {
   "cell_type": "code",
   "execution_count": null,
   "metadata": {},
   "outputs": [],
   "source": []
  },
  {
   "cell_type": "code",
   "execution_count": 3181,
   "metadata": {
    "collapsed": true
   },
   "outputs": [],
   "source": [
    "lb_City = LabelEncoder()\n",
    "df[\"City_code\"] = lb_City.fit_transform(df[\"City\"])"
   ]
  },
  {
   "cell_type": "code",
   "execution_count": 3182,
   "metadata": {
    "collapsed": true
   },
   "outputs": [],
   "source": [
    "lb_Locality = LabelEncoder()\n",
    "df[\"Locality_code\"] = lb_Locality.fit_transform(df[\"Locality\"])"
   ]
  },
  {
   "cell_type": "code",
   "execution_count": 3183,
   "metadata": {
    "collapsed": true
   },
   "outputs": [],
   "source": [
    "lb_qual_1 = LabelEncoder()\n",
    "df[\"Qual_1_code\"] = lb_Locality.fit_transform(df[\"Qual_1\"])"
   ]
  },
  {
   "cell_type": "code",
   "execution_count": 3184,
   "metadata": {},
   "outputs": [],
   "source": [
    "x = df.loc[df['Qual_1'] == 'Get inspired by remarkable stories of people like you', 'Qual_1_code']"
   ]
  },
  {
   "cell_type": "code",
   "execution_count": null,
   "metadata": {},
   "outputs": [],
   "source": []
  },
  {
   "cell_type": "code",
   "execution_count": null,
   "metadata": {},
   "outputs": [],
   "source": []
  },
  {
   "cell_type": "code",
   "execution_count": 3185,
   "metadata": {
    "collapsed": true
   },
   "outputs": [],
   "source": [
    "lb_qual_2 = LabelEncoder()\n",
    "df[\"Qual_2_code\"] = lb_Locality.fit_transform(df[\"Qual_2\"])"
   ]
  },
  {
   "cell_type": "code",
   "execution_count": 3186,
   "metadata": {
    "collapsed": true
   },
   "outputs": [],
   "source": [
    "lb_qual_3 = LabelEncoder()\n",
    "df[\"Qual_3_code\"] = lb_Locality.fit_transform(df[\"Qual_3\"])"
   ]
  },
  {
   "cell_type": "code",
   "execution_count": 3187,
   "metadata": {
    "collapsed": true
   },
   "outputs": [],
   "source": [
    "lb_Profile = LabelEncoder()\n",
    "df[\"Profile_code\"] = lb_Locality.fit_transform(df[\"Profile\"])"
   ]
  },
  {
   "cell_type": "code",
   "execution_count": 3188,
   "metadata": {
    "scrolled": true
   },
   "outputs": [
    {
     "data": {
      "text/plain": [
       "Qualification          object\n",
       "Experience             object\n",
       "Rating                  int32\n",
       "Place                  object\n",
       "Profile                object\n",
       "Miscellaneous_Info     object\n",
       "years_exp               int32\n",
       "City                   object\n",
       "Locality               object\n",
       "Qual_1                 object\n",
       "Qual_2                 object\n",
       "Qual_3                 object\n",
       "Misc                    int32\n",
       "Misc_len              float64\n",
       "Misc_2                 object\n",
       "Misc_3                  int32\n",
       "Misc_3_len            float64\n",
       "Fees1                   int64\n",
       "Misc_4                float64\n",
       "City_code               int64\n",
       "Locality_code           int64\n",
       "Qual_1_code             int64\n",
       "Qual_2_code             int64\n",
       "Qual_3_code             int64\n",
       "Profile_code            int64\n",
       "dtype: object"
      ]
     },
     "execution_count": 3188,
     "metadata": {},
     "output_type": "execute_result"
    }
   ],
   "source": [
    "df.dtypes"
   ]
  },
  {
   "cell_type": "code",
   "execution_count": 3248,
   "metadata": {},
   "outputs": [
    {
     "data": {
      "text/plain": [
       "array([ 0,  1,  2,  3,  4,  5,  6,  7,  8,  9, 10, 11, 12, 14, 15, 17, 19,\n",
       "       20, 21, 22, 23, 24], dtype=int64)"
      ]
     },
     "execution_count": 3248,
     "metadata": {},
     "output_type": "execute_result"
    }
   ],
   "source": [
    "np.where(df.dtypes != np.float)[0]"
   ]
  },
  {
   "cell_type": "code",
   "execution_count": 3189,
   "metadata": {},
   "outputs": [],
   "source": [
    "df_xgb = df[['Qual_1_code','Qual_2_code','Qual_3_code','years_exp', 'Rating','Profile_code','Locality_code','City_code','Misc_4','Fees1']]"
   ]
  },
  {
   "cell_type": "code",
   "execution_count": 3190,
   "metadata": {
    "collapsed": true
   },
   "outputs": [],
   "source": [
    "#df_xgb = df[['Qual_1_code','Qual_3_code','years_exp','Locality_code','Misc_4','Fees1']]"
   ]
  },
  {
   "cell_type": "code",
   "execution_count": 3193,
   "metadata": {
    "collapsed": true
   },
   "outputs": [],
   "source": [
    "X, y = df_xgb.iloc[:,:-1],df_xgb.iloc[:,-1]"
   ]
  },
  {
   "cell_type": "code",
   "execution_count": 3194,
   "metadata": {
    "collapsed": true
   },
   "outputs": [],
   "source": [
    "import xgboost as xgb\n",
    "from sklearn.metrics import mean_squared_error"
   ]
  },
  {
   "cell_type": "code",
   "execution_count": 3195,
   "metadata": {
    "collapsed": true
   },
   "outputs": [],
   "source": [
    "data_dmatrix = xgb.DMatrix(data=X,label=y)"
   ]
  },
  {
   "cell_type": "code",
   "execution_count": 3196,
   "metadata": {
    "collapsed": true
   },
   "outputs": [],
   "source": [
    "from sklearn.model_selection import train_test_split\n",
    "\n",
    "X_train, X_test, y_train, y_test = train_test_split(X, y, test_size=0.3, random_state=123)"
   ]
  },
  {
   "cell_type": "code",
   "execution_count": 3197,
   "metadata": {
    "collapsed": true
   },
   "outputs": [],
   "source": [
    "# xg_reg = xgb.XGBRegressor(objective ='reg:linear', colsample_bytree = 0.3, learning_rate = 0.1, max_depth = 5, n_estimators = 10)"
   ]
  },
  {
   "cell_type": "code",
   "execution_count": 3198,
   "metadata": {
    "collapsed": true
   },
   "outputs": [],
   "source": [
    "# xg_reg.fit(X_train,y_train)\n",
    "\n",
    "# preds = xg_reg.predict(X_test)"
   ]
  },
  {
   "cell_type": "code",
   "execution_count": 3199,
   "metadata": {},
   "outputs": [
    {
     "name": "stdout",
     "output_type": "stream",
     "text": [
      "RMSE: 214.994424\n"
     ]
    }
   ],
   "source": [
    "# rmse = np.sqrt(mean_squared_error(y_test, preds))\n",
    "# print(\"RMSE: %f\" % (rmse))"
   ]
  },
  {
   "cell_type": "code",
   "execution_count": null,
   "metadata": {
    "collapsed": true
   },
   "outputs": [],
   "source": []
  },
  {
   "cell_type": "code",
   "execution_count": 3200,
   "metadata": {
    "collapsed": true
   },
   "outputs": [],
   "source": [
    "# params = {\"objective\":\"reg:linear\",'colsample_bytree': 0.3,'learning_rate': 0.1,\n",
    "                'max_depth': 5, 'alpha': 10}\n",
    "\n",
    "# cv_results = xgb.cv(dtrain=data_dmatrix, params=params, nfold=3,\n",
    "#                     num_boost_round=50,early_stopping_rounds=10,metrics=\"rmse\", as_pandas=True, seed=123)"
   ]
  },
  {
   "cell_type": "code",
   "execution_count": 3201,
   "metadata": {},
   "outputs": [
    {
     "data": {
      "text/html": [
       "<div>\n",
       "<style>\n",
       "    .dataframe thead tr:only-child th {\n",
       "        text-align: right;\n",
       "    }\n",
       "\n",
       "    .dataframe thead th {\n",
       "        text-align: left;\n",
       "    }\n",
       "\n",
       "    .dataframe tbody tr th {\n",
       "        vertical-align: top;\n",
       "    }\n",
       "</style>\n",
       "<table border=\"1\" class=\"dataframe\">\n",
       "  <thead>\n",
       "    <tr style=\"text-align: right;\">\n",
       "      <th></th>\n",
       "      <th>test-rmse-mean</th>\n",
       "      <th>test-rmse-std</th>\n",
       "      <th>train-rmse-mean</th>\n",
       "      <th>train-rmse-std</th>\n",
       "    </tr>\n",
       "  </thead>\n",
       "  <tbody>\n",
       "    <tr>\n",
       "      <th>0</th>\n",
       "      <td>335.413666</td>\n",
       "      <td>1.568630</td>\n",
       "      <td>335.342194</td>\n",
       "      <td>0.659724</td>\n",
       "    </tr>\n",
       "    <tr>\n",
       "      <th>1</th>\n",
       "      <td>312.566254</td>\n",
       "      <td>1.609778</td>\n",
       "      <td>312.402171</td>\n",
       "      <td>0.559384</td>\n",
       "    </tr>\n",
       "    <tr>\n",
       "      <th>2</th>\n",
       "      <td>292.492493</td>\n",
       "      <td>1.496401</td>\n",
       "      <td>292.269511</td>\n",
       "      <td>0.469234</td>\n",
       "    </tr>\n",
       "    <tr>\n",
       "      <th>3</th>\n",
       "      <td>275.427877</td>\n",
       "      <td>1.415945</td>\n",
       "      <td>275.089732</td>\n",
       "      <td>0.401313</td>\n",
       "    </tr>\n",
       "    <tr>\n",
       "      <th>4</th>\n",
       "      <td>260.615255</td>\n",
       "      <td>1.427818</td>\n",
       "      <td>260.105947</td>\n",
       "      <td>0.388899</td>\n",
       "    </tr>\n",
       "  </tbody>\n",
       "</table>\n",
       "</div>"
      ],
      "text/plain": [
       "   test-rmse-mean  test-rmse-std  train-rmse-mean  train-rmse-std\n",
       "0      335.413666       1.568630       335.342194        0.659724\n",
       "1      312.566254       1.609778       312.402171        0.559384\n",
       "2      292.492493       1.496401       292.269511        0.469234\n",
       "3      275.427877       1.415945       275.089732        0.401313\n",
       "4      260.615255       1.427818       260.105947        0.388899"
      ]
     },
     "execution_count": 3201,
     "metadata": {},
     "output_type": "execute_result"
    }
   ],
   "source": [
    "# cv_results.head()"
   ]
  },
  {
   "cell_type": "code",
   "execution_count": 3202,
   "metadata": {},
   "outputs": [
    {
     "name": "stdout",
     "output_type": "stream",
     "text": [
      "49    177.275472\n",
      "Name: test-rmse-mean, dtype: float64\n"
     ]
    }
   ],
   "source": [
    "# print((cv_results[\"test-rmse-mean\"]).tail(1))"
   ]
  },
  {
   "cell_type": "code",
   "execution_count": 3203,
   "metadata": {
    "scrolled": true
   },
   "outputs": [
    {
     "data": {
      "image/png": "[encoded data removed]",
      "text/plain": [
       "<matplotlib.figure.Figure at 0x13c8b550>"
      ]
     },
     "metadata": {},
     "output_type": "display_data"
    }
   ],
   "source": [
    "#xgb.plot_importance(xg_reg)\n",
    "#plt.rcParams['figure.figsize'] = [5, 5]\n",
    "# plt.show()"
   ]
  },
  {
   "cell_type": "code",
   "execution_count": null,
   "metadata": {
    "collapsed": true
   },
   "outputs": [],
   "source": [
    "\n"
   ]
  },
  {
   "cell_type": "code",
   "execution_count": 3204,
   "metadata": {
    "collapsed": true
   },
   "outputs": [],
   "source": [
    "df_test=pd.read_excel(\"/Users/sd15068/Downloads/Final Participant Data Folder/Final_Test.xlsx\")"
   ]
  },
  {
   "cell_type": "code",
   "execution_count": 3205,
   "metadata": {},
   "outputs": [
    {
     "data": {
      "text/html": [
       "<div>\n",
       "<style>\n",
       "    .dataframe thead tr:only-child th {\n",
       "        text-align: right;\n",
       "    }\n",
       "\n",
       "    .dataframe thead th {\n",
       "        text-align: left;\n",
       "    }\n",
       "\n",
       "    .dataframe tbody tr th {\n",
       "        vertical-align: top;\n",
       "    }\n",
       "</style>\n",
       "<table border=\"1\" class=\"dataframe\">\n",
       "  <thead>\n",
       "    <tr style=\"text-align: right;\">\n",
       "      <th></th>\n",
       "      <th>Qualification</th>\n",
       "      <th>Experience</th>\n",
       "      <th>Rating</th>\n",
       "      <th>Place</th>\n",
       "      <th>Profile</th>\n",
       "      <th>Miscellaneous_Info</th>\n",
       "    </tr>\n",
       "  </thead>\n",
       "  <tbody>\n",
       "    <tr>\n",
       "      <th>0</th>\n",
       "      <td>MBBS</td>\n",
       "      <td>35 years experience</td>\n",
       "      <td>NaN</td>\n",
       "      <td>Ghatkopar East, Mumbai</td>\n",
       "      <td>General Medicine</td>\n",
       "      <td>NaN</td>\n",
       "    </tr>\n",
       "    <tr>\n",
       "      <th>1</th>\n",
       "      <td>MBBS, Diploma in Otorhinolaryngology (DLO)</td>\n",
       "      <td>31 years experience</td>\n",
       "      <td>NaN</td>\n",
       "      <td>West Marredpally, Hyderabad</td>\n",
       "      <td>ENT Specialist</td>\n",
       "      <td>NaN</td>\n",
       "    </tr>\n",
       "    <tr>\n",
       "      <th>2</th>\n",
       "      <td>MBBS, DDVL</td>\n",
       "      <td>40 years experience</td>\n",
       "      <td>70%</td>\n",
       "      <td>KK Nagar, Chennai</td>\n",
       "      <td>Dermatologists</td>\n",
       "      <td>70% 4 Feedback KK Nagar, Chennai</td>\n",
       "    </tr>\n",
       "    <tr>\n",
       "      <th>3</th>\n",
       "      <td>BAMS</td>\n",
       "      <td>0 years experience</td>\n",
       "      <td>NaN</td>\n",
       "      <td>New Ashok Nagar, Delhi</td>\n",
       "      <td>Ayurveda</td>\n",
       "      <td>NaN</td>\n",
       "    </tr>\n",
       "    <tr>\n",
       "      <th>4</th>\n",
       "      <td>BDS, MDS - Conservative Dentistry &amp; Endodontics</td>\n",
       "      <td>16 years experience</td>\n",
       "      <td>100%</td>\n",
       "      <td>Kanakpura Road, Bangalore</td>\n",
       "      <td>Dentist</td>\n",
       "      <td>General Dentistry Conservative Dentistry Cosme...</td>\n",
       "    </tr>\n",
       "  </tbody>\n",
       "</table>\n",
       "</div>"
      ],
      "text/plain": [
       "                                     Qualification           Experience  \\\n",
       "0                                             MBBS  35 years experience   \n",
       "1       MBBS, Diploma in Otorhinolaryngology (DLO)  31 years experience   \n",
       "2                                       MBBS, DDVL  40 years experience   \n",
       "3                                             BAMS   0 years experience   \n",
       "4  BDS, MDS - Conservative Dentistry & Endodontics  16 years experience   \n",
       "\n",
       "  Rating                        Place           Profile  \\\n",
       "0    NaN       Ghatkopar East, Mumbai  General Medicine   \n",
       "1    NaN  West Marredpally, Hyderabad    ENT Specialist   \n",
       "2    70%            KK Nagar, Chennai    Dermatologists   \n",
       "3    NaN       New Ashok Nagar, Delhi          Ayurveda   \n",
       "4   100%    Kanakpura Road, Bangalore           Dentist   \n",
       "\n",
       "                                  Miscellaneous_Info  \n",
       "0                                                NaN  \n",
       "1                                                NaN  \n",
       "2                   70% 4 Feedback KK Nagar, Chennai  \n",
       "3                                                NaN  \n",
       "4  General Dentistry Conservative Dentistry Cosme...  "
      ]
     },
     "execution_count": 3205,
     "metadata": {},
     "output_type": "execute_result"
    }
   ],
   "source": [
    "df_test.head()"
   ]
  },
  {
   "cell_type": "code",
   "execution_count": 3206,
   "metadata": {
    "collapsed": true
   },
   "outputs": [],
   "source": [
    "df_test['years_exp'] = df_test['Experience'].str.slice(stop=2).astype(int)"
   ]
  },
  {
   "cell_type": "code",
   "execution_count": 3207,
   "metadata": {
    "collapsed": true
   },
   "outputs": [],
   "source": [
    "df_test['City'] = df_test['Place'].str.split(',').str[1]\n",
    "df_test['Locality'] = df_test['Place'].str.split(',').str[0]"
   ]
  },
  {
   "cell_type": "code",
   "execution_count": 3208,
   "metadata": {
    "collapsed": true
   },
   "outputs": [],
   "source": [
    "df_test['Rating'].fillna('95%',inplace = True)\n",
    "df_test['Rating'] = df_test['Rating'].str.slice(stop=-1).astype(int)"
   ]
  },
  {
   "cell_type": "code",
   "execution_count": 3209,
   "metadata": {
    "collapsed": true
   },
   "outputs": [],
   "source": [
    "df_test['Qual_1'] = df['Qualification'].str.split(',').str[0]\n",
    "df_test['Qual_2'] = df['Qualification'].str.split(',').str[1]\n",
    "df_test['Qual_3'] = df['Qualification'].str.split(',').str[2]"
   ]
  },
  {
   "cell_type": "code",
   "execution_count": 3210,
   "metadata": {
    "collapsed": true
   },
   "outputs": [],
   "source": [
    "df_test['City'].fillna(\"XXX\",inplace = True)\n",
    "df_test['Locality'].fillna(\"XXX\",inplace = True)\n",
    "df_test['Qual_1'].fillna(\"XXX\",inplace = True)\n",
    "df_test['Qual_2'].fillna(\"XXX\",inplace = True)\n",
    "df_test['Qual_3'].fillna(\"XXX\",inplace = True)\n",
    "df_test['Profile'].fillna(\"XXX\",inplace = True)"
   ]
  },
  {
   "cell_type": "code",
   "execution_count": 3211,
   "metadata": {
    "collapsed": true
   },
   "outputs": [],
   "source": [
    "df_test['Misc'] = df_test['Miscellaneous_Info'].str.split('%').str[0]\n",
    "\n",
    "df_test['Misc_len'] = df_test['Misc'].str.len()\n",
    "\n",
    "df_test.loc[df_test['Misc_len']>3, 'Misc'] = 0\n",
    "\n",
    "df_test['Misc'].fillna(0,inplace = True)\n",
    "\n",
    "df_test['Misc'] = df_test['Misc'].astype(int)\n",
    "\n",
    "df_test['Misc_2'] = df_test['Miscellaneous_Info'].str.split('% ').str[1]\n",
    "\n",
    "df_test['Misc_3'] = df_test['Misc_2'].str.split(' ').str[0]\n",
    "\n",
    "df_test['Misc_3'].fillna(0,inplace = True)\n",
    "\n",
    "df_test['Misc_3_len'] = df_test['Misc_3'].str.len()\n",
    "\n",
    "df_test.loc[df_test['Misc_3_len']>3, 'Misc_3'] = 0\n",
    "\n",
    "df_test.loc[df_test['Misc_3']==',', 'Misc_3'] = 0\n",
    "\n",
    "df_test['Misc_3'] = df_test['Misc_3'].astype(int)"
   ]
  },
  {
   "cell_type": "code",
   "execution_count": 3212,
   "metadata": {
    "collapsed": true
   },
   "outputs": [],
   "source": [
    "df_test['Misc_4'] = df_test['Misc']*np.log(1+df['Misc_3'])"
   ]
  },
  {
   "cell_type": "code",
   "execution_count": null,
   "metadata": {
    "collapsed": true
   },
   "outputs": [],
   "source": []
  },
  {
   "cell_type": "code",
   "execution_count": 3213,
   "metadata": {
    "collapsed": true
   },
   "outputs": [],
   "source": [
    "lb_City = LabelEncoder()\n",
    "df_test[\"City_code\"] = lb_City.fit_transform(df_test[\"City\"])"
   ]
  },
  {
   "cell_type": "code",
   "execution_count": 3214,
   "metadata": {
    "collapsed": true
   },
   "outputs": [],
   "source": [
    "lb_Locality = LabelEncoder()\n",
    "df_test[\"Locality_code\"] = lb_Locality.fit_transform(df_test[\"Locality\"])"
   ]
  },
  {
   "cell_type": "code",
   "execution_count": 3215,
   "metadata": {
    "collapsed": true
   },
   "outputs": [],
   "source": [
    "lb_qual_1 = LabelEncoder()\n",
    "df_test[\"Qual_1_code\"] = lb_Locality.fit_transform(df_test[\"Qual_1\"])"
   ]
  },
  {
   "cell_type": "code",
   "execution_count": 3216,
   "metadata": {
    "collapsed": true
   },
   "outputs": [],
   "source": [
    "lb_qual_2 = LabelEncoder()\n",
    "df_test[\"Qual_2_code\"] = lb_Locality.fit_transform(df_test[\"Qual_2\"])"
   ]
  },
  {
   "cell_type": "code",
   "execution_count": 3217,
   "metadata": {
    "collapsed": true
   },
   "outputs": [],
   "source": [
    "lb_qual_3 = LabelEncoder()\n",
    "df_test[\"Qual_3_code\"] = lb_Locality.fit_transform(df_test[\"Qual_3\"])"
   ]
  },
  {
   "cell_type": "code",
   "execution_count": 3218,
   "metadata": {},
   "outputs": [],
   "source": [
    "x = df_test.loc[df['Qual_1'] == 'Get inspired by remarkable stories of people like you', 'Qual_1_code']"
   ]
  },
  {
   "cell_type": "code",
   "execution_count": null,
   "metadata": {},
   "outputs": [],
   "source": []
  },
  {
   "cell_type": "code",
   "execution_count": null,
   "metadata": {
    "collapsed": true
   },
   "outputs": [],
   "source": []
  },
  {
   "cell_type": "code",
   "execution_count": 3219,
   "metadata": {
    "collapsed": true
   },
   "outputs": [],
   "source": [
    "lb_Profile = LabelEncoder()\n",
    "df_test[\"Profile_code\"] = lb_Locality.fit_transform(df_test[\"Profile\"])"
   ]
  },
  {
   "cell_type": "code",
   "execution_count": 3220,
   "metadata": {
    "collapsed": true
   },
   "outputs": [],
   "source": [
    "# df_test_xgb = df_test[['Qual_1_code','Qual_2_code','Qual_3_code','years_exp', 'Rating','Profile_code','Locality_code','City_code','Misc_4']]"
   ]
  },
  {
   "cell_type": "code",
   "execution_count": 3221,
   "metadata": {
    "collapsed": true
   },
   "outputs": [],
   "source": [
    "df_test_xgb = df_test[['Qual_1_code','Qual_3_code','years_exp','Locality_code','Misc_4']]"
   ]
  },
  {
   "cell_type": "code",
   "execution_count": 3222,
   "metadata": {},
   "outputs": [],
   "source": [
    "preds_1 = xg_reg.predict(df_test_xgb)"
   ]
  },
  {
   "cell_type": "code",
   "execution_count": 3223,
   "metadata": {},
   "outputs": [
    {
     "data": {
      "text/plain": [
       "array([ 182.23080444,  195.23812866,  215.70562744, ...,  216.57286072,\n",
       "        221.44563293,  216.57286072], dtype=float32)"
      ]
     },
     "execution_count": 3223,
     "metadata": {},
     "output_type": "execute_result"
    }
   ],
   "source": [
    "preds_1"
   ]
  },
  {
   "cell_type": "code",
   "execution_count": 3224,
   "metadata": {},
   "outputs": [
    {
     "name": "stderr",
     "output_type": "stream",
     "text": [
      "C:\\Users\\sd15068\\AppData\\Local\\Continuum\\Anaconda3\\lib\\site-packages\\ipykernel_launcher.py:1: SettingWithCopyWarning: \n",
      "A value is trying to be set on a copy of a slice from a DataFrame.\n",
      "Try using .loc[row_indexer,col_indexer] = value instead\n",
      "\n",
      "See the caveats in the documentation: http://pandas.pydata.org/pandas-docs/stable/indexing.html#indexing-view-versus-copy\n",
      "  \"\"\"Entry point for launching an IPython kernel.\n"
     ]
    }
   ],
   "source": [
    "df_test_xgb['Fees'] = preds_1"
   ]
  },
  {
   "cell_type": "code",
   "execution_count": 3225,
   "metadata": {},
   "outputs": [
    {
     "data": {
      "text/html": [
       "<div>\n",
       "<style>\n",
       "    .dataframe thead tr:only-child th {\n",
       "        text-align: right;\n",
       "    }\n",
       "\n",
       "    .dataframe thead th {\n",
       "        text-align: left;\n",
       "    }\n",
       "\n",
       "    .dataframe tbody tr th {\n",
       "        vertical-align: top;\n",
       "    }\n",
       "</style>\n",
       "<table border=\"1\" class=\"dataframe\">\n",
       "  <thead>\n",
       "    <tr style=\"text-align: right;\">\n",
       "      <th></th>\n",
       "      <th>Qual_1_code</th>\n",
       "      <th>Qual_3_code</th>\n",
       "      <th>years_exp</th>\n",
       "      <th>Locality_code</th>\n",
       "      <th>Misc_4</th>\n",
       "      <th>Fees</th>\n",
       "    </tr>\n",
       "  </thead>\n",
       "  <tbody>\n",
       "    <tr>\n",
       "      <th>0</th>\n",
       "      <td>4</td>\n",
       "      <td>191</td>\n",
       "      <td>35</td>\n",
       "      <td>142</td>\n",
       "      <td>0.0</td>\n",
       "      <td>182.230804</td>\n",
       "    </tr>\n",
       "    <tr>\n",
       "      <th>1</th>\n",
       "      <td>2</td>\n",
       "      <td>191</td>\n",
       "      <td>31</td>\n",
       "      <td>577</td>\n",
       "      <td>0.0</td>\n",
       "      <td>195.238129</td>\n",
       "    </tr>\n",
       "    <tr>\n",
       "      <th>2</th>\n",
       "      <td>41</td>\n",
       "      <td>191</td>\n",
       "      <td>40</td>\n",
       "      <td>212</td>\n",
       "      <td>0.0</td>\n",
       "      <td>215.705627</td>\n",
       "    </tr>\n",
       "    <tr>\n",
       "      <th>3</th>\n",
       "      <td>7</td>\n",
       "      <td>191</td>\n",
       "      <td>0</td>\n",
       "      <td>373</td>\n",
       "      <td>0.0</td>\n",
       "      <td>166.066986</td>\n",
       "    </tr>\n",
       "    <tr>\n",
       "      <th>4</th>\n",
       "      <td>2</td>\n",
       "      <td>191</td>\n",
       "      <td>16</td>\n",
       "      <td>231</td>\n",
       "      <td>0.0</td>\n",
       "      <td>187.182098</td>\n",
       "    </tr>\n",
       "  </tbody>\n",
       "</table>\n",
       "</div>"
      ],
      "text/plain": [
       "   Qual_1_code  Qual_3_code  years_exp  Locality_code  Misc_4        Fees\n",
       "0            4          191         35            142     0.0  182.230804\n",
       "1            2          191         31            577     0.0  195.238129\n",
       "2           41          191         40            212     0.0  215.705627\n",
       "3            7          191          0            373     0.0  166.066986\n",
       "4            2          191         16            231     0.0  187.182098"
      ]
     },
     "execution_count": 3225,
     "metadata": {},
     "output_type": "execute_result"
    }
   ],
   "source": [
    "df_test_xgb.head()"
   ]
  },
  {
   "cell_type": "code",
   "execution_count": null,
   "metadata": {},
   "outputs": [],
   "source": []
  },
  {
   "cell_type": "code",
   "execution_count": 3226,
   "metadata": {},
   "outputs": [
    {
     "name": "stderr",
     "output_type": "stream",
     "text": [
      "C:\\Users\\sd15068\\AppData\\Local\\Continuum\\Anaconda3\\lib\\site-packages\\pandas\\core\\indexing.py:517: SettingWithCopyWarning: \n",
      "A value is trying to be set on a copy of a slice from a DataFrame.\n",
      "Try using .loc[row_indexer,col_indexer] = value instead\n",
      "\n",
      "See the caveats in the documentation: http://pandas.pydata.org/pandas-docs/stable/indexing.html#indexing-view-versus-copy\n",
      "  self.obj[item] = s\n"
     ]
    }
   ],
   "source": [
    "df_test_xgb.loc[df_test['Qual_1_code'] == 38, 'Fees'] = 100"
   ]
  },
  {
   "cell_type": "code",
   "execution_count": 3227,
   "metadata": {
    "collapsed": true
   },
   "outputs": [],
   "source": [
    "df_test_xgb.to_csv('submission17.csv')"
   ]
  },
  {
   "cell_type": "code",
   "execution_count": 3262,
   "metadata": {
    "collapsed": true
   },
   "outputs": [],
   "source": [
    "df.to_csv('df_train.csv')"
   ]
  },
  {
   "cell_type": "code",
   "execution_count": null,
   "metadata": {
    "collapsed": true
   },
   "outputs": [],
   "source": []
  }
 ],
 "metadata": {
  "kernelspec": {
   "display_name": "Python 3",
   "language": "python",
   "name": "python3"
  },
  "language_info": {
   "codemirror_mode": {
    "name": "ipython",
    "version": 3
   },
   "file_extension": ".py",
   "mimetype": "text/x-python",
   "name": "python",
   "nbconvert_exporter": "python",
   "pygments_lexer": "ipython3",
   "version": "3.6.1"
  }
 },
 "nbformat": 4,
 "nbformat_minor": 2
}
